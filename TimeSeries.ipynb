{
 "cells": [
  {
   "cell_type": "markdown",
   "id": "a7adb624",
   "metadata": {},
   "source": [
    "Importing necessary libraries"
   ]
  },
  {
   "cell_type": "code",
   "execution_count": 1,
   "id": "05501ede",
   "metadata": {
    "scrolled": false
   },
   "outputs": [],
   "source": [
    "import numpy as np\n",
    "import pandas as pd\n",
    "import scipy\n",
    "from datetime import datetime\n",
    "import datetime as dt\n",
    "import matplotlib.pyplot as plt\n",
    "%matplotlib inline\n",
    "\n",
    "import warnings\n",
    "warnings.filterwarnings('ignore')"
   ]
  },
  {
   "cell_type": "markdown",
   "id": "fee2c6f1",
   "metadata": {},
   "source": [
    "Loading the data and dropping na values"
   ]
  },
  {
   "cell_type": "code",
   "execution_count": 2,
   "id": "d6876868",
   "metadata": {
    "scrolled": false
   },
   "outputs": [
    {
     "data": {
      "text/html": [
       "<div>\n",
       "<style scoped>\n",
       "    .dataframe tbody tr th:only-of-type {\n",
       "        vertical-align: middle;\n",
       "    }\n",
       "\n",
       "    .dataframe tbody tr th {\n",
       "        vertical-align: top;\n",
       "    }\n",
       "\n",
       "    .dataframe thead th {\n",
       "        text-align: right;\n",
       "    }\n",
       "</style>\n",
       "<table border=\"1\" class=\"dataframe\">\n",
       "  <thead>\n",
       "    <tr style=\"text-align: right;\">\n",
       "      <th></th>\n",
       "      <th>DATE</th>\n",
       "      <th>CBETHUSD</th>\n",
       "    </tr>\n",
       "  </thead>\n",
       "  <tbody>\n",
       "    <tr>\n",
       "      <th>0</th>\n",
       "      <td>2017-07-25</td>\n",
       "      <td>203.78</td>\n",
       "    </tr>\n",
       "    <tr>\n",
       "      <th>1</th>\n",
       "      <td>2017-07-26</td>\n",
       "      <td>203.23</td>\n",
       "    </tr>\n",
       "    <tr>\n",
       "      <th>2</th>\n",
       "      <td>2017-07-27</td>\n",
       "      <td>202.94</td>\n",
       "    </tr>\n",
       "    <tr>\n",
       "      <th>3</th>\n",
       "      <td>2017-07-28</td>\n",
       "      <td>190.72</td>\n",
       "    </tr>\n",
       "    <tr>\n",
       "      <th>4</th>\n",
       "      <td>2017-07-29</td>\n",
       "      <td>205.9</td>\n",
       "    </tr>\n",
       "  </tbody>\n",
       "</table>\n",
       "</div>"
      ],
      "text/plain": [
       "         DATE CBETHUSD\n",
       "0  2017-07-25   203.78\n",
       "1  2017-07-26   203.23\n",
       "2  2017-07-27   202.94\n",
       "3  2017-07-28   190.72\n",
       "4  2017-07-29    205.9"
      ]
     },
     "execution_count": 2,
     "metadata": {},
     "output_type": "execute_result"
    }
   ],
   "source": [
    "eth_data = pd.read_csv('https://raw.githubusercontent.com/RyanSaul85/datasets/master/CBETHUSD%20-%20CBETHUSD.csv?token=GHSAT0AAAAAABV3LLUEG2VPJN2M4RV5EG22YXBIIVQ')\n",
    "\n",
    "# Remove `NA` values\n",
    "eth_data.dropna(inplace=True)\n",
    "\n",
    "eth_data.head()"
   ]
  },
  {
   "cell_type": "markdown",
   "id": "e172b696",
   "metadata": {},
   "source": [
    "Creating a price column with numeric data"
   ]
  },
  {
   "cell_type": "code",
   "execution_count": 3,
   "id": "d6c9f922",
   "metadata": {
    "scrolled": false
   },
   "outputs": [
    {
     "data": {
      "text/html": [
       "<div>\n",
       "<style scoped>\n",
       "    .dataframe tbody tr th:only-of-type {\n",
       "        vertical-align: middle;\n",
       "    }\n",
       "\n",
       "    .dataframe tbody tr th {\n",
       "        vertical-align: top;\n",
       "    }\n",
       "\n",
       "    .dataframe thead th {\n",
       "        text-align: right;\n",
       "    }\n",
       "</style>\n",
       "<table border=\"1\" class=\"dataframe\">\n",
       "  <thead>\n",
       "    <tr style=\"text-align: right;\">\n",
       "      <th></th>\n",
       "      <th>DATE</th>\n",
       "      <th>CBETHUSD</th>\n",
       "      <th>price</th>\n",
       "    </tr>\n",
       "  </thead>\n",
       "  <tbody>\n",
       "    <tr>\n",
       "      <th>0</th>\n",
       "      <td>2017-07-25</td>\n",
       "      <td>203.78</td>\n",
       "      <td>203.78</td>\n",
       "    </tr>\n",
       "    <tr>\n",
       "      <th>1</th>\n",
       "      <td>2017-07-26</td>\n",
       "      <td>203.23</td>\n",
       "      <td>203.23</td>\n",
       "    </tr>\n",
       "    <tr>\n",
       "      <th>2</th>\n",
       "      <td>2017-07-27</td>\n",
       "      <td>202.94</td>\n",
       "      <td>202.94</td>\n",
       "    </tr>\n",
       "    <tr>\n",
       "      <th>3</th>\n",
       "      <td>2017-07-28</td>\n",
       "      <td>190.72</td>\n",
       "      <td>190.72</td>\n",
       "    </tr>\n",
       "    <tr>\n",
       "      <th>4</th>\n",
       "      <td>2017-07-29</td>\n",
       "      <td>205.9</td>\n",
       "      <td>205.90</td>\n",
       "    </tr>\n",
       "  </tbody>\n",
       "</table>\n",
       "</div>"
      ],
      "text/plain": [
       "         DATE CBETHUSD   price\n",
       "0  2017-07-25   203.78  203.78\n",
       "1  2017-07-26   203.23  203.23\n",
       "2  2017-07-27   202.94  202.94\n",
       "3  2017-07-28   190.72  190.72\n",
       "4  2017-07-29    205.9  205.90"
      ]
     },
     "execution_count": 3,
     "metadata": {},
     "output_type": "execute_result"
    }
   ],
   "source": [
    "eth_data['price'] = pd.to_numeric(eth_data['CBETHUSD'], errors='coerce')\n",
    "\n",
    "eth_data.dropna(inplace=True)\n",
    "\n",
    "eth_data.head()"
   ]
  },
  {
   "cell_type": "markdown",
   "id": "3fc2f69c",
   "metadata": {},
   "source": [
    "Making sure there are no na or infinite values in the data"
   ]
  },
  {
   "cell_type": "code",
   "execution_count": 4,
   "id": "6082250c",
   "metadata": {
    "scrolled": false
   },
   "outputs": [
    {
     "name": "stdout",
     "output_type": "stream",
     "text": [
      "False\n",
      "False\n"
     ]
    }
   ],
   "source": [
    "print(np.isnan(eth_data.price).any())\n",
    "\n",
    "print(np.isinf(eth_data.price).any())"
   ]
  },
  {
   "cell_type": "markdown",
   "id": "07ffd6e9",
   "metadata": {},
   "source": [
    "Plotting the ETH Time Series data"
   ]
  },
  {
   "cell_type": "code",
   "execution_count": 5,
   "id": "4ecda304",
   "metadata": {
    "scrolled": false
   },
   "outputs": [
    {
     "data": {
      "image/png": "[encoded data removed]",
      "text/plain": [
       "<Figure size 432x288 with 1 Axes>"
      ]
     },
     "metadata": {
      "needs_background": "light"
     },
     "output_type": "display_data"
    }
   ],
   "source": [
    "eth_data.plot()\n",
    "plt.title('ETH Time Series')\n",
    "plt.show()"
   ]
  },
  {
   "cell_type": "code",
   "execution_count": 6,
   "id": "68fd17c2",
   "metadata": {
    "scrolled": false
   },
   "outputs": [
    {
     "data": {
      "image/png": "[encoded data removed]",
      "text/plain": [
       "<Figure size 432x288 with 1 Axes>"
      ]
     },
     "metadata": {
      "needs_background": "light"
     },
     "output_type": "display_data"
    }
   ],
   "source": [
    "eth_data.index = pd.to_datetime(eth_data['DATE'])\n",
    "eth_data.plot()\n",
    "plt.title('ETH Time Series')\n",
    "plt.show()"
   ]
  },
  {
   "cell_type": "markdown",
   "id": "08197241",
   "metadata": {},
   "source": [
    "Plotting the ETH Diff data"
   ]
  },
  {
   "cell_type": "code",
   "execution_count": 7,
   "id": "637822fe",
   "metadata": {},
   "outputs": [
    {
     "data": {
      "image/png": "[encoded data removed]",
      "text/plain": [
       "<Figure size 432x288 with 1 Axes>"
      ]
     },
     "metadata": {
      "needs_background": "light"
     },
     "output_type": "display_data"
    }
   ],
   "source": [
    "eth_data['diff_1'] = eth_data.price - eth_data.price.shift()\n",
    "eth_data.plot(y='diff_1')\n",
    "plt.title('ETH Time Series')\n",
    "plt.show()"
   ]
  },
  {
   "cell_type": "markdown",
   "id": "b05f6a44",
   "metadata": {},
   "source": [
    "PACF (Partial AutoCorrelation Function) Plots"
   ]
  },
  {
   "cell_type": "code",
   "execution_count": 8,
   "id": "73e5297a",
   "metadata": {
    "scrolled": true
   },
   "outputs": [
    {
     "data": {
      "image/png": "[encoded data removed]",
      "text/plain": [
       "<Figure size 432x288 with 1 Axes>"
      ]
     },
     "metadata": {
      "needs_background": "light"
     },
     "output_type": "display_data"
    }
   ],
   "source": [
    "from statsmodels.tsa.stattools import pacf\n",
    "x_acf = pd.DataFrame(pacf(eth_data.price))\n",
    "x_acf.plot(kind='bar')\n",
    "plt.title(\"ETH PACF\");"
   ]
  },
  {
   "cell_type": "code",
   "execution_count": 9,
   "id": "13dfe4fb",
   "metadata": {
    "scrolled": false
   },
   "outputs": [
    {
     "data": {
      "image/png": "[encoded data removed]",
      "text/plain": [
       "<Figure size 432x288 with 1 Axes>"
      ]
     },
     "metadata": {
      "needs_background": "light"
     },
     "output_type": "display_data"
    }
   ],
   "source": [
    "x_acf = pd.DataFrame(pacf(eth_data.diff_1[1:]))\n",
    "x_acf.plot(kind='bar')\n",
    "plt.title(\"ETH Diff PACF\")\n",
    "plt.legend(['difference']);"
   ]
  },
  {
   "cell_type": "markdown",
   "id": "f3a13958",
   "metadata": {},
   "source": [
    "Interpreting the PACF\n",
    "\n",
    "- significant correlation at lag 0 and 1 for ETH meaning autoregressive term of order 2\n",
    "- significant correlation at lag 0 for ETH Diff meaning autoregressive term of order 1"
   ]
  },
  {
   "cell_type": "markdown",
   "id": "47dd93dd",
   "metadata": {},
   "source": [
    "Showing the ETH Time Series data and the ETH Diff data together"
   ]
  },
  {
   "cell_type": "code",
   "execution_count": 10,
   "id": "53a7bfc3",
   "metadata": {
    "scrolled": false
   },
   "outputs": [
    {
     "data": {
      "image/png": "[encoded data removed]",
      "text/plain": [
       "<Figure size 432x288 with 1 Axes>"
      ]
     },
     "metadata": {
      "needs_background": "light"
     },
     "output_type": "display_data"
    }
   ],
   "source": [
    "eth_data.index = pd.to_datetime(eth_data['DATE'])\n",
    "eth_data.plot()\n",
    "plt.title('ETH Time Series')\n",
    "plt.show()"
   ]
  },
  {
   "cell_type": "code",
   "execution_count": 11,
   "id": "cef541fc",
   "metadata": {
    "scrolled": false
   },
   "outputs": [],
   "source": [
    "import warnings\n",
    "warnings.filterwarnings('ignore')"
   ]
  },
  {
   "cell_type": "markdown",
   "id": "d6bc3fbf",
   "metadata": {},
   "source": [
    "Doing a variety of different values for (AR,I,MA) to determine the best model for the data"
   ]
  },
  {
   "cell_type": "code",
   "execution_count": 12,
   "id": "85f06472",
   "metadata": {
    "scrolled": false
   },
   "outputs": [
    {
     "name": "stdout",
     "output_type": "stream",
     "text": [
      "                             ARIMA Model Results                              \n",
      "==============================================================================\n",
      "Dep. Variable:                D.price   No. Observations:                 1825\n",
      "Model:                 ARIMA(5, 1, 0)   Log Likelihood              -10535.007\n",
      "Method:                       css-mle   S.D. of innovations             77.763\n",
      "Date:                Wed, 27 Jul 2022   AIC                          21084.015\n",
      "Time:                        10:42:09   BIC                          21122.580\n",
      "Sample:                             1   HQIC                         21098.241\n",
      "                                                                              \n",
      "=================================================================================\n",
      "                    coef    std err          z      P>|z|      [0.025      0.975]\n",
      "---------------------------------------------------------------------------------\n",
      "const             0.6788      1.742      0.390      0.697      -2.735       4.092\n",
      "ar.L1.D.price    -0.0648      0.023     -2.769      0.006      -0.111      -0.019\n",
      "ar.L2.D.price     0.0142      0.023      0.608      0.543      -0.032       0.060\n",
      "ar.L3.D.price     0.0311      0.023      1.329      0.184      -0.015       0.077\n",
      "ar.L4.D.price     0.0339      0.023      1.449      0.147      -0.012       0.080\n",
      "ar.L5.D.price    -0.0597      0.023     -2.554      0.011      -0.105      -0.014\n",
      "                                    Roots                                    \n",
      "=============================================================================\n",
      "                  Real          Imaginary           Modulus         Frequency\n",
      "-----------------------------------------------------------------------------\n",
      "AR.1           -1.6547           -0.0000j            1.6547           -0.5000\n",
      "AR.2           -0.5037           -1.5999j            1.6773           -0.2985\n",
      "AR.3           -0.5037           +1.5999j            1.6773            0.2985\n",
      "AR.4            1.6152           -0.9948j            1.8970           -0.0879\n",
      "AR.5            1.6152           +0.9948j            1.8970            0.0879\n",
      "-----------------------------------------------------------------------------\n",
      "510 Residuals Description\n",
      "count    1825.000000\n",
      "mean       -0.000030\n",
      "std        77.783868\n",
      "min      -839.526826\n",
      "25%       -10.980872\n",
      "50%        -0.373152\n",
      "75%        13.050534\n",
      "max       489.637716\n",
      "dtype: float64\n"
     ]
    }
   ],
   "source": [
    "from statsmodels.tsa.arima_model import ARIMA\n",
    "model_510 = ARIMA(eth_data.price, order=(5,1,0))\n",
    "model_510_fit = model_510.fit()\n",
    "print(model_510_fit.summary())\n",
    "print('510 Residuals Description')\n",
    "print(model_510_fit.resid.describe());"
   ]
  },
  {
   "cell_type": "code",
   "execution_count": 13,
   "id": "ea3f2475",
   "metadata": {
    "scrolled": false
   },
   "outputs": [
    {
     "name": "stdout",
     "output_type": "stream",
     "text": [
      "                             ARIMA Model Results                              \n",
      "==============================================================================\n",
      "Dep. Variable:                D.price   No. Observations:                 1825\n",
      "Model:                 ARIMA(1, 1, 1)   Log Likelihood              -10540.328\n",
      "Method:                       css-mle   S.D. of innovations             77.990\n",
      "Date:                Wed, 27 Jul 2022   AIC                          21088.657\n",
      "Time:                        10:42:10   BIC                          21110.694\n",
      "Sample:                             1   HQIC                         21096.786\n",
      "                                                                              \n",
      "=================================================================================\n",
      "                    coef    std err          z      P>|z|      [0.025      0.975]\n",
      "---------------------------------------------------------------------------------\n",
      "const             0.6810      1.722      0.395      0.693      -2.695       4.057\n",
      "ar.L1.D.price    -0.1686      0.295     -0.571      0.568      -0.747       0.410\n",
      "ma.L1.D.price     0.1024      0.298      0.344      0.731      -0.481       0.686\n",
      "                                    Roots                                    \n",
      "=============================================================================\n",
      "                  Real          Imaginary           Modulus         Frequency\n",
      "-----------------------------------------------------------------------------\n",
      "AR.1           -5.9326           +0.0000j            5.9326            0.5000\n",
      "MA.1           -9.7676           +0.0000j            9.7676            0.5000\n",
      "-----------------------------------------------------------------------------\n",
      "111 Residuals Description\n",
      "count    1825.000000\n",
      "mean       -0.000406\n",
      "std        78.011528\n",
      "min      -879.803377\n",
      "25%       -10.720571\n",
      "50%        -0.433097\n",
      "75%        13.407320\n",
      "max       508.408161\n",
      "dtype: float64\n"
     ]
    }
   ],
   "source": [
    "from statsmodels.tsa.arima_model import ARIMA\n",
    "model_111 = ARIMA(eth_data.price, order=(1,1,1))\n",
    "model_111_fit = model_111.fit()\n",
    "print(model_111_fit.summary())\n",
    "print('111 Residuals Description')\n",
    "print(model_111_fit.resid.describe())"
   ]
  },
  {
   "cell_type": "code",
   "execution_count": 14,
   "id": "72c34584",
   "metadata": {
    "scrolled": false
   },
   "outputs": [
    {
     "name": "stdout",
     "output_type": "stream",
     "text": [
      "                             ARIMA Model Results                              \n",
      "==============================================================================\n",
      "Dep. Variable:                D.price   No. Observations:                 1825\n",
      "Model:                 ARIMA(5, 1, 1)   Log Likelihood              -10529.370\n",
      "Method:                       css-mle   S.D. of innovations             77.522\n",
      "Date:                Wed, 27 Jul 2022   AIC                          21074.739\n",
      "Time:                        10:42:11   BIC                          21118.814\n",
      "Sample:                             1   HQIC                         21090.998\n",
      "                                                                              \n",
      "=================================================================================\n",
      "                    coef    std err          z      P>|z|      [0.025      0.975]\n",
      "---------------------------------------------------------------------------------\n",
      "const             0.6787      1.752      0.387      0.698      -2.754       4.112\n",
      "ar.L1.D.price    -0.5999      0.105     -5.713      0.000      -0.806      -0.394\n",
      "ar.L2.D.price    -0.0210      0.028     -0.746      0.455      -0.076       0.034\n",
      "ar.L3.D.price     0.0381      0.027      1.397      0.162      -0.015       0.092\n",
      "ar.L4.D.price     0.0486      0.027      1.771      0.077      -0.005       0.102\n",
      "ar.L5.D.price    -0.0627      0.026     -2.453      0.014      -0.113      -0.013\n",
      "ma.L1.D.price     0.5413      0.103      5.250      0.000       0.339       0.743\n",
      "                                    Roots                                    \n",
      "=============================================================================\n",
      "                  Real          Imaginary           Modulus         Frequency\n",
      "-----------------------------------------------------------------------------\n",
      "AR.1           -1.2803           -0.0000j            1.2803           -0.5000\n",
      "AR.2           -0.7507           -1.4384j            1.6225           -0.3266\n",
      "AR.3           -0.7507           +1.4384j            1.6225            0.3266\n",
      "AR.4            1.7789           -1.2530j            2.1759           -0.0977\n",
      "AR.5            1.7789           +1.2530j            2.1759            0.0977\n",
      "MA.1           -1.8474           +0.0000j            1.8474            0.5000\n",
      "-----------------------------------------------------------------------------\n",
      "511 Residuals Description\n",
      "count    1825.000000\n",
      "mean        0.000635\n",
      "std        77.543216\n",
      "min      -841.620201\n",
      "25%       -10.849127\n",
      "50%        -0.538782\n",
      "75%        12.924706\n",
      "max       488.755124\n",
      "dtype: float64\n"
     ]
    }
   ],
   "source": [
    "from statsmodels.tsa.arima_model import ARIMA\n",
    "model_511 = ARIMA(eth_data.price, order=(5,1,1))\n",
    "model_511_fit = model_511.fit()\n",
    "print(model_511_fit.summary())\n",
    "print('511 Residuals Description')\n",
    "print(model_511_fit.resid.describe())"
   ]
  },
  {
   "cell_type": "code",
   "execution_count": 15,
   "id": "564b8f6f",
   "metadata": {
    "scrolled": false
   },
   "outputs": [
    {
     "name": "stdout",
     "output_type": "stream",
     "text": [
      "                             ARIMA Model Results                              \n",
      "==============================================================================\n",
      "Dep. Variable:                D.price   No. Observations:                 1825\n",
      "Model:                 ARIMA(5, 1, 2)   Log Likelihood              -10527.192\n",
      "Method:                       css-mle   S.D. of innovations             77.429\n",
      "Date:                Wed, 27 Jul 2022   AIC                          21072.385\n",
      "Time:                        10:42:15   BIC                          21121.969\n",
      "Sample:                             1   HQIC                         21090.675\n",
      "                                                                              \n",
      "=================================================================================\n",
      "                    coef    std err          z      P>|z|      [0.025      0.975]\n",
      "---------------------------------------------------------------------------------\n",
      "const             0.6782      1.767      0.384      0.701      -2.785       4.141\n",
      "ar.L1.D.price    -1.0065      0.285     -3.538      0.000      -1.564      -0.449\n",
      "ar.L2.D.price    -0.4048      0.181     -2.239      0.025      -0.759      -0.051\n",
      "ar.L3.D.price     0.0194      0.035      0.548      0.583      -0.050       0.089\n",
      "ar.L4.D.price     0.0611      0.039      1.555      0.120      -0.016       0.138\n",
      "ar.L5.D.price    -0.0407      0.043     -0.956      0.339      -0.124       0.043\n",
      "ma.L1.D.price     0.9504      0.285      3.340      0.001       0.393       1.508\n",
      "ma.L2.D.price     0.3616      0.163      2.223      0.026       0.043       0.680\n",
      "                                    Roots                                    \n",
      "=============================================================================\n",
      "                  Real          Imaginary           Modulus         Frequency\n",
      "-----------------------------------------------------------------------------\n",
      "AR.1           -1.3863           -0.0000j            1.3863           -0.5000\n",
      "AR.2           -0.8066           -1.1704j            1.4214           -0.3460\n",
      "AR.3           -0.8066           +1.1704j            1.4214            0.3460\n",
      "AR.4            2.2506           -1.9245j            2.9612           -0.1126\n",
      "AR.5            2.2506           +1.9245j            2.9612            0.1126\n",
      "MA.1           -1.3143           -1.0191j            1.6631           -0.3950\n",
      "MA.2           -1.3143           +1.0191j            1.6631            0.3950\n",
      "-----------------------------------------------------------------------------\n",
      "512 Residuals Description\n",
      "count    1825.000000\n",
      "mean        0.000268\n",
      "std        77.450430\n",
      "min      -847.234787\n",
      "25%       -10.758889\n",
      "50%        -0.535382\n",
      "75%        12.959980\n",
      "max       489.412237\n",
      "dtype: float64\n"
     ]
    }
   ],
   "source": [
    "from statsmodels.tsa.arima_model import ARIMA\n",
    "model_512 = ARIMA(eth_data.price, order=(5,1,2))\n",
    "model_512_fit = model_512.fit()\n",
    "print(model_512_fit.summary())\n",
    "print('512 Residuals Description')\n",
    "print(model_512_fit.resid.describe())"
   ]
  },
  {
   "cell_type": "code",
   "execution_count": 16,
   "id": "b43cdffd",
   "metadata": {
    "scrolled": false
   },
   "outputs": [
    {
     "name": "stdout",
     "output_type": "stream",
     "text": [
      "                             ARIMA Model Results                              \n",
      "==============================================================================\n",
      "Dep. Variable:                D.price   No. Observations:                 1825\n",
      "Model:                 ARIMA(5, 1, 3)   Log Likelihood              -10518.507\n",
      "Method:                       css-mle   S.D. of innovations             77.056\n",
      "Date:                Wed, 27 Jul 2022   AIC                          21057.015\n",
      "Time:                        10:42:22   BIC                          21112.108\n",
      "Sample:                             1   HQIC                         21077.338\n",
      "                                                                              \n",
      "=================================================================================\n",
      "                    coef    std err          z      P>|z|      [0.025      0.975]\n",
      "---------------------------------------------------------------------------------\n",
      "const             0.6799      1.810      0.376      0.707      -2.868       4.228\n",
      "ar.L1.D.price    -2.0623      0.239     -8.622      0.000      -2.531      -1.593\n",
      "ar.L2.D.price    -1.3813      0.452     -3.058      0.002      -2.267      -0.496\n",
      "ar.L3.D.price    -0.2069      0.259     -0.798      0.425      -0.715       0.301\n",
      "ar.L4.D.price     0.1085      0.059      1.844      0.065      -0.007       0.224\n",
      "ar.L5.D.price     0.0707      0.025      2.822      0.005       0.022       0.120\n",
      "ma.L1.D.price     2.0159      0.239      8.431      0.000       1.547       2.485\n",
      "ma.L2.D.price     1.2869      0.439      2.931      0.003       0.426       2.147\n",
      "ma.L3.D.price     0.1852      0.228      0.813      0.416      -0.261       0.631\n",
      "                                    Roots                                    \n",
      "=============================================================================\n",
      "                  Real          Imaginary           Modulus         Frequency\n",
      "-----------------------------------------------------------------------------\n",
      "AR.1           -1.0040           -0.3060j            1.0496           -0.4529\n",
      "AR.2           -1.0040           +0.3060j            1.0496            0.4529\n",
      "AR.3            2.9673           -0.0000j            2.9673           -0.0000\n",
      "AR.4           -1.2465           -1.6645j            2.0795           -0.3523\n",
      "AR.5           -1.2465           +1.6645j            2.0795            0.3523\n",
      "MA.1           -0.9838           -0.3408j            1.0412           -0.4469\n",
      "MA.2           -0.9838           +0.3408j            1.0412            0.4469\n",
      "MA.3           -4.9810           -0.0000j            4.9810           -0.5000\n",
      "-----------------------------------------------------------------------------\n",
      "Residuals Description\n",
      "count    1825.000000\n",
      "mean        0.001367\n",
      "std        77.077297\n",
      "min      -822.696111\n",
      "25%       -11.055267\n",
      "50%        -0.546179\n",
      "75%        13.441154\n",
      "max       484.320108\n",
      "dtype: float64\n"
     ]
    }
   ],
   "source": [
    "from statsmodels.tsa.arima_model import ARIMA\n",
    "model_513 = ARIMA(eth_data.price, order=(5,1,3))\n",
    "model_513_fit = model_513.fit()\n",
    "print(model_513_fit.summary())\n",
    "print('Residuals Description')\n",
    "print(model_513_fit.resid.describe())"
   ]
  },
  {
   "cell_type": "code",
   "execution_count": 17,
   "id": "b2db369d",
   "metadata": {
    "scrolled": false
   },
   "outputs": [
    {
     "name": "stdout",
     "output_type": "stream",
     "text": [
      "                              ARMA Model Results                              \n",
      "==============================================================================\n",
      "Dep. Variable:                  price   No. Observations:                 1826\n",
      "Model:                     ARMA(1, 0)   Log Likelihood              -10551.685\n",
      "Method:                       css-mle   S.D. of innovations             78.115\n",
      "Date:                Wed, 27 Jul 2022   AIC                          21109.370\n",
      "Time:                        10:42:24   BIC                          21125.899\n",
      "Sample:                             0   HQIC                         21115.467\n",
      "                                                                              \n",
      "===============================================================================\n",
      "                  coef    std err          z      P>|z|      [0.025      0.975]\n",
      "-------------------------------------------------------------------------------\n",
      "const         981.4961    636.002      1.543      0.123    -265.046    2228.038\n",
      "ar.L1.price     0.9976      0.001    726.674      0.000       0.995       1.000\n",
      "                                    Roots                                    \n",
      "=============================================================================\n",
      "                  Real          Imaginary           Modulus         Frequency\n",
      "-----------------------------------------------------------------------------\n",
      "AR.1            1.0024           +0.0000j            1.0024            0.0000\n",
      "-----------------------------------------------------------------------------\n",
      "100 Residuals Description\n",
      "count    1826.000000\n",
      "mean        0.423775\n",
      "std        80.217734\n",
      "min      -880.595277\n",
      "25%       -11.396295\n",
      "50%        -1.373605\n",
      "75%        13.116993\n",
      "max       522.552122\n",
      "dtype: float64\n"
     ]
    }
   ],
   "source": [
    "from statsmodels.tsa.arima_model import ARIMA\n",
    "model_100 = ARIMA(eth_data.price, order=(1,0,0))\n",
    "model_100_fit = model_100.fit()\n",
    "print(model_100_fit.summary())\n",
    "print('100 Residuals Description')\n",
    "print(model_100_fit.resid.describe())"
   ]
  },
  {
   "cell_type": "code",
   "execution_count": 18,
   "id": "c927c6a0",
   "metadata": {
    "scrolled": false
   },
   "outputs": [
    {
     "name": "stdout",
     "output_type": "stream",
     "text": [
      "                              ARMA Model Results                              \n",
      "==============================================================================\n",
      "Dep. Variable:                  price   No. Observations:                 1826\n",
      "Model:                     ARMA(1, 1)   Log Likelihood              -10547.911\n",
      "Method:                       css-mle   S.D. of innovations             77.953\n",
      "Date:                Wed, 27 Jul 2022   AIC                          21103.822\n",
      "Time:                        10:42:24   BIC                          21125.861\n",
      "Sample:                             0   HQIC                         21111.951\n",
      "                                                                              \n",
      "===============================================================================\n",
      "                  coef    std err          z      P>|z|      [0.025      0.975]\n",
      "-------------------------------------------------------------------------------\n",
      "const        1055.0566    658.717      1.602      0.109    -236.005    2346.118\n",
      "ar.L1.price     0.9979      0.001    780.375      0.000       0.995       1.000\n",
      "ma.L1.price    -0.0634      0.023     -2.764      0.006      -0.108      -0.018\n",
      "                                    Roots                                    \n",
      "=============================================================================\n",
      "                  Real          Imaginary           Modulus         Frequency\n",
      "-----------------------------------------------------------------------------\n",
      "AR.1            1.0021           +0.0000j            1.0021            0.0000\n",
      "MA.1           15.7847           +0.0000j           15.7847            0.0000\n",
      "-----------------------------------------------------------------------------\n",
      "101 Residuals Description\n",
      "count    1826.000000\n",
      "mean        0.259773\n",
      "std        80.468379\n",
      "min      -877.109189\n",
      "25%       -11.291179\n",
      "50%        -1.440585\n",
      "75%        13.040695\n",
      "max       510.578207\n",
      "dtype: float64\n"
     ]
    }
   ],
   "source": [
    "from statsmodels.tsa.arima_model import ARIMA\n",
    "model_101 = ARIMA(eth_data.price, order=(1,0,1))\n",
    "model_101_fit = model_101.fit()\n",
    "print(model_101_fit.summary())\n",
    "print('101 Residuals Description')\n",
    "print(model_101_fit.resid.describe())"
   ]
  },
  {
   "cell_type": "code",
   "execution_count": 19,
   "id": "b2db8404",
   "metadata": {
    "scrolled": false
   },
   "outputs": [
    {
     "name": "stdout",
     "output_type": "stream",
     "text": [
      "                             ARIMA Model Results                              \n",
      "==============================================================================\n",
      "Dep. Variable:                D.price   No. Observations:                 1825\n",
      "Model:                 ARIMA(1, 1, 1)   Log Likelihood              -10540.328\n",
      "Method:                       css-mle   S.D. of innovations             77.990\n",
      "Date:                Wed, 27 Jul 2022   AIC                          21088.657\n",
      "Time:                        10:42:25   BIC                          21110.694\n",
      "Sample:                             1   HQIC                         21096.786\n",
      "                                                                              \n",
      "=================================================================================\n",
      "                    coef    std err          z      P>|z|      [0.025      0.975]\n",
      "---------------------------------------------------------------------------------\n",
      "const             0.6810      1.722      0.395      0.693      -2.695       4.057\n",
      "ar.L1.D.price    -0.1686      0.295     -0.571      0.568      -0.747       0.410\n",
      "ma.L1.D.price     0.1024      0.298      0.344      0.731      -0.481       0.686\n",
      "                                    Roots                                    \n",
      "=============================================================================\n",
      "                  Real          Imaginary           Modulus         Frequency\n",
      "-----------------------------------------------------------------------------\n",
      "AR.1           -5.9326           +0.0000j            5.9326            0.5000\n",
      "MA.1           -9.7676           +0.0000j            9.7676            0.5000\n",
      "-----------------------------------------------------------------------------\n",
      "111 Residuals Description\n",
      "count    1825.000000\n",
      "mean       -0.000406\n",
      "std        78.011528\n",
      "min      -879.803377\n",
      "25%       -10.720571\n",
      "50%        -0.433097\n",
      "75%        13.407320\n",
      "max       508.408161\n",
      "dtype: float64\n"
     ]
    }
   ],
   "source": [
    "from statsmodels.tsa.arima_model import ARIMA\n",
    "model_111 = ARIMA(eth_data.price, order=(1,1,1))\n",
    "model_111_fit = model_111.fit()\n",
    "print(model_111_fit.summary())\n",
    "print('111 Residuals Description')\n",
    "print(model_111_fit.resid.describe())"
   ]
  },
  {
   "cell_type": "code",
   "execution_count": 20,
   "id": "f167b346",
   "metadata": {
    "scrolled": false
   },
   "outputs": [
    {
     "name": "stdout",
     "output_type": "stream",
     "text": [
      "                              ARMA Model Results                              \n",
      "==============================================================================\n",
      "Dep. Variable:                  price   No. Observations:                 1826\n",
      "Model:                     ARMA(3, 0)   Log Likelihood              -10547.653\n",
      "Method:                       css-mle   S.D. of innovations             77.942\n",
      "Date:                Wed, 27 Jul 2022   AIC                          21105.306\n",
      "Time:                        10:42:25   BIC                          21132.856\n",
      "Sample:                             0   HQIC                         21115.469\n",
      "                                                                              \n",
      "===============================================================================\n",
      "                  coef    std err          z      P>|z|      [0.025      0.975]\n",
      "-------------------------------------------------------------------------------\n",
      "const        1055.0570    654.259      1.613      0.107    -227.267    2337.381\n",
      "ar.L1.price     0.9332      0.023     39.863      0.000       0.887       0.979\n",
      "ar.L2.price     0.0767      0.032      2.398      0.016       0.014       0.139\n",
      "ar.L3.price    -0.0122      0.023     -0.519      0.604      -0.058       0.034\n",
      "                                    Roots                                    \n",
      "=============================================================================\n",
      "                  Real          Imaginary           Modulus         Frequency\n",
      "-----------------------------------------------------------------------------\n",
      "AR.1            1.0022           +0.0000j            1.0022            0.0000\n",
      "AR.2           -6.7858           +0.0000j            6.7858            0.5000\n",
      "AR.3           12.0942           +0.0000j           12.0942            0.0000\n",
      "-----------------------------------------------------------------------------\n",
      "300 Residuals Description\n",
      "count    1826.000000\n",
      "mean        0.248720\n",
      "std        80.457720\n",
      "min      -872.368783\n",
      "25%       -11.178639\n",
      "50%        -1.457017\n",
      "75%        12.914129\n",
      "max       512.906813\n",
      "dtype: float64\n"
     ]
    }
   ],
   "source": [
    "from statsmodels.tsa.arima_model import ARIMA\n",
    "model_300 = ARIMA(eth_data.price, order=(3,0,0))\n",
    "model_300_fit = model_300.fit()\n",
    "print(model_300_fit.summary())\n",
    "print('300 Residuals Description')\n",
    "print(model_300_fit.resid.describe())"
   ]
  },
  {
   "cell_type": "code",
   "execution_count": 21,
   "id": "35d79e35",
   "metadata": {
    "scrolled": false
   },
   "outputs": [
    {
     "name": "stdout",
     "output_type": "stream",
     "text": [
      "                              ARMA Model Results                              \n",
      "==============================================================================\n",
      "Dep. Variable:                  price   No. Observations:                 1826\n",
      "Model:                     ARMA(3, 1)   Log Likelihood              -10546.086\n",
      "Method:                       css-mle   S.D. of innovations             77.875\n",
      "Date:                Wed, 27 Jul 2022   AIC                          21104.172\n",
      "Time:                        10:42:26   BIC                          21137.231\n",
      "Sample:                             0   HQIC                         21116.367\n",
      "                                                                              \n",
      "===============================================================================\n",
      "                  coef    std err          z      P>|z|      [0.025      0.975]\n",
      "-------------------------------------------------------------------------------\n",
      "const        1055.0682    653.402      1.615      0.106    -225.577    2335.713\n",
      "ar.L1.price     0.1476      0.087      1.688      0.091      -0.024       0.319\n",
      "ar.L2.price     0.8235      0.075     10.952      0.000       0.676       0.971\n",
      "ar.L3.price     0.0248      0.026      0.972      0.331      -0.025       0.075\n",
      "ma.L1.price     0.7880      0.084      9.371      0.000       0.623       0.953\n",
      "                                    Roots                                    \n",
      "=============================================================================\n",
      "                  Real          Imaginary           Modulus         Frequency\n",
      "-----------------------------------------------------------------------------\n",
      "AR.1            1.0022           +0.0000j            1.0022            0.0000\n",
      "AR.2           -1.2196           +0.0000j            1.2196            0.5000\n",
      "AR.3          -32.9890           +0.0000j           32.9890            0.5000\n",
      "MA.1           -1.2691           +0.0000j            1.2691            0.5000\n",
      "-----------------------------------------------------------------------------\n",
      "301 Residuals Description\n",
      "count    1826.000000\n",
      "mean        0.245952\n",
      "std        80.392830\n",
      "min      -863.190414\n",
      "25%       -11.324377\n",
      "50%        -1.437885\n",
      "75%        12.890672\n",
      "max       489.543512\n",
      "dtype: float64\n"
     ]
    }
   ],
   "source": [
    "from statsmodels.tsa.arima_model import ARIMA\n",
    "model_301 = ARIMA(eth_data.price, order=(3,0,1))\n",
    "model_301_fit = model_301.fit()\n",
    "print(model_301_fit.summary())\n",
    "print('301 Residuals Description')\n",
    "print(model_301_fit.resid.describe())"
   ]
  },
  {
   "cell_type": "code",
   "execution_count": 22,
   "id": "7fae4470",
   "metadata": {
    "scrolled": false
   },
   "outputs": [
    {
     "name": "stdout",
     "output_type": "stream",
     "text": [
      "                             ARIMA Model Results                              \n",
      "==============================================================================\n",
      "Dep. Variable:                D.price   No. Observations:                 1825\n",
      "Model:                 ARIMA(3, 1, 1)   Log Likelihood              -10539.029\n",
      "Method:                       css-mle   S.D. of innovations             77.935\n",
      "Date:                Wed, 27 Jul 2022   AIC                          21090.058\n",
      "Time:                        10:42:27   BIC                          21123.114\n",
      "Sample:                             1   HQIC                         21102.251\n",
      "                                                                              \n",
      "=================================================================================\n",
      "                    coef    std err          z      P>|z|      [0.025      0.975]\n",
      "---------------------------------------------------------------------------------\n",
      "const             0.6767      1.855      0.365      0.715      -2.959       4.312\n",
      "ar.L1.D.price     0.4872      0.335      1.456      0.145      -0.169       1.143\n",
      "ar.L2.D.price     0.0495      0.034      1.470      0.142      -0.017       0.116\n",
      "ar.L3.D.price     0.0247      0.026      0.938      0.348      -0.027       0.076\n",
      "ma.L1.D.price    -0.5540      0.334     -1.658      0.097      -1.209       0.101\n",
      "                                    Roots                                    \n",
      "=============================================================================\n",
      "                  Real          Imaginary           Modulus         Frequency\n",
      "-----------------------------------------------------------------------------\n",
      "AR.1            1.5912           -0.0000j            1.5912           -0.0000\n",
      "AR.2           -1.7994           -4.7155j            5.0472           -0.3080\n",
      "AR.3           -1.7994           +4.7155j            5.0472            0.3080\n",
      "MA.1            1.8050           +0.0000j            1.8050            0.0000\n",
      "-----------------------------------------------------------------------------\n",
      "311 Residuals Description\n",
      "count    1825.000000\n",
      "mean        0.000102\n",
      "std        77.955900\n",
      "min      -870.880602\n",
      "25%       -10.891281\n",
      "50%        -0.425374\n",
      "75%        12.965618\n",
      "max       524.647997\n",
      "dtype: float64\n"
     ]
    }
   ],
   "source": [
    "from statsmodels.tsa.arima_model import ARIMA\n",
    "model_311 = ARIMA(eth_data.price, order=(3,1,1))\n",
    "model_311_fit = model_311.fit()\n",
    "print(model_311_fit.summary())\n",
    "print('311 Residuals Description')\n",
    "print(model_311_fit.resid.describe())"
   ]
  },
  {
   "cell_type": "code",
   "execution_count": 23,
   "id": "521cb21d",
   "metadata": {
    "scrolled": false
   },
   "outputs": [
    {
     "name": "stdout",
     "output_type": "stream",
     "text": [
      "                              ARMA Model Results                              \n",
      "==============================================================================\n",
      "Dep. Variable:                  price   No. Observations:                 1826\n",
      "Model:                     ARMA(0, 1)   Log Likelihood              -14383.461\n",
      "Method:                       css-mle   S.D. of innovations            637.418\n",
      "Date:                Wed, 27 Jul 2022   AIC                          28772.923\n",
      "Time:                        10:42:28   BIC                          28789.452\n",
      "Sample:                             0   HQIC                         28779.020\n",
      "                                                                              \n",
      "===============================================================================\n",
      "                  coef    std err          z      P>|z|      [0.025      0.975]\n",
      "-------------------------------------------------------------------------------\n",
      "const        1054.8554     29.160     36.175      0.000     997.703    1112.008\n",
      "ma.L1.price     0.9554      0.005    194.758      0.000       0.946       0.965\n",
      "                                    Roots                                    \n",
      "=============================================================================\n",
      "                  Real          Imaginary           Modulus         Frequency\n",
      "-----------------------------------------------------------------------------\n",
      "MA.1           -1.0467           +0.0000j            1.0467            0.5000\n",
      "-----------------------------------------------------------------------------\n",
      "001 Residuals Description\n",
      "count    1826.000000\n",
      "mean       -0.191749\n",
      "std       637.887007\n",
      "min      -851.075446\n",
      "25%      -432.845254\n",
      "50%      -340.136087\n",
      "75%       266.415531\n",
      "max      2348.883805\n",
      "dtype: float64\n"
     ]
    }
   ],
   "source": [
    "from statsmodels.tsa.arima_model import ARIMA\n",
    "model_001 = ARIMA(eth_data.price, order=(0,0,1))\n",
    "model_001_fit = model_001.fit()\n",
    "print(model_001_fit.summary())\n",
    "print('001 Residuals Description')\n",
    "print(model_001_fit.resid.describe())"
   ]
  },
  {
   "cell_type": "code",
   "execution_count": 24,
   "id": "6e331e19",
   "metadata": {},
   "outputs": [
    {
     "name": "stdout",
     "output_type": "stream",
     "text": [
      "                              ARMA Model Results                              \n",
      "==============================================================================\n",
      "Dep. Variable:                  price   No. Observations:                 1826\n",
      "Model:                     ARMA(2, 1)   Log Likelihood              -10547.711\n",
      "Method:                       css-mle   S.D. of innovations             77.945\n",
      "Date:                Wed, 27 Jul 2022   AIC                          21105.421\n",
      "Time:                        10:42:29   BIC                          21132.970\n",
      "Sample:                             0   HQIC                         21115.583\n",
      "                                                                              \n",
      "===============================================================================\n",
      "                  coef    std err          z      P>|z|      [0.025      0.975]\n",
      "-------------------------------------------------------------------------------\n",
      "const        1055.0559    656.139      1.608      0.108    -230.954    2341.066\n",
      "ar.L1.price     0.8202      0.295      2.777      0.005       0.241       1.399\n",
      "ar.L2.price     0.1773      0.295      0.602      0.547      -0.400       0.755\n",
      "ma.L1.price     0.1125      0.298      0.377      0.706      -0.472       0.697\n",
      "                                    Roots                                    \n",
      "=============================================================================\n",
      "                  Real          Imaginary           Modulus         Frequency\n",
      "-----------------------------------------------------------------------------\n",
      "AR.1            1.0021           +0.0000j            1.0021            0.0000\n",
      "AR.2           -5.6275           +0.0000j            5.6275            0.5000\n",
      "MA.1           -8.8914           +0.0000j            8.8914            0.5000\n",
      "-----------------------------------------------------------------------------\n",
      "201 Residuals Description\n",
      "count    1826.000000\n",
      "mean        0.253229\n",
      "std        80.460082\n",
      "min      -873.731172\n",
      "25%       -11.214855\n",
      "50%        -1.432626\n",
      "75%        12.952563\n",
      "max       511.752202\n",
      "dtype: float64\n"
     ]
    }
   ],
   "source": [
    "from statsmodels.tsa.arima_model import ARIMA\n",
    "model_201 = ARIMA(eth_data.price, order=(2,0,1))\n",
    "model_201_fit = model_201.fit()\n",
    "print(model_201_fit.summary())\n",
    "print('201 Residuals Description')\n",
    "print(model_201_fit.resid.describe())"
   ]
  },
  {
   "cell_type": "markdown",
   "id": "ed55c888",
   "metadata": {},
   "source": [
    "The AR is the past values, I is the level of differencing, and MA is adjusting to past errors.\n",
    "\n",
    "The ARIMA (AR,I,MA) (1,0,1) model is the most accurate since the LR is 0.9979 meaning the value is not changing very much from a day-to-day standpoint and the MA is 6.34% meaning the eror will be reduced by that value each day.\n",
    "\n",
    "                  coef    std err          z      P>|z|      [0.025      0.975]\n",
    "-------------------------------------------------------------------------------\n",
    "const        1055.0566    658.717      1.602      0.109    -236.005    2346.118\n",
    "ar.L1.price     0.9979      0.001    780.375      0.000       0.995       1.000\n",
    "ma.L1.price    -0.0634      0.023     -2.764      0.006      -0.108      -0.018"
   ]
  }
 ],
 "metadata": {
  "kernelspec": {
   "display_name": "Python 3 (ipykernel)",
   "language": "python",
   "name": "python3"
  },
  "language_info": {
   "codemirror_mode": {
    "name": "ipython",
    "version": 3
   },
   "file_extension": ".py",
   "mimetype": "text/x-python",
   "name": "python",
   "nbconvert_exporter": "python",
   "pygments_lexer": "ipython3",
   "version": "3.9.7"
  }
 },
 "nbformat": 4,
 "nbformat_minor": 5
}
